{
 "cells": [
  {
   "cell_type": "markdown",
   "metadata": {
    "hide_input": true
   },
   "source": [
    "# Part 1: Technical Indicators\n",
    "***\n",
    "For the first portion of this report, a discussion of 5 technical indicators will be discussed, namely, simple moving average (SMA), Bollinger Bands (BB), exponential moving average (EMA), moving average convergence divergence (MACD), and stoichastic oscillator (SOSC). Implementation of these indicators into a trading strategy will be discussed in the following sections.\n",
    "\n",
    "The first technical indicator, simple moving average (SMA), is aptly named as it is simply a rolling mean across data points. A rolling mean consists of data and a window, and returns another dataset. The returned dataset points represent the average of values prior to that point, where the number of points to average over represents the window (often in the notation of X-day SMA, where X is the window length). When this model is applied, it suppresses outliers in the dataset by diluting their overall impact. The SMA is commonly used as a means to apply other technical indicators and to return a smoother trend of data. There are some anecdotal trends that are identified through the SMA, such as the “death cross”, which represents a bearish signal, and occurs when the 50-day crosses the 200-day SMA. Implementation of the SMA is also characterized by it’s name, due to the pandas library providing a specialized method for applying a SMA to a pandas dataframe. The pandas method used is pandas.rolling_mean(), which accepts a pandas dataframe and window as arguments. Implementation of this method on the JPM stock data is shown below.\n",
    "\n"
   ]
  },
  {
   "cell_type": "code",
   "execution_count": 1,
   "metadata": {},
   "outputs": [
    {
     "ename": "ModuleNotFoundError",
     "evalue": "No module named 'util'",
     "output_type": "error",
     "traceback": [
      "\u001b[0;31m---------------------------------------------------------------------------\u001b[0m",
      "\u001b[0;31mModuleNotFoundError\u001b[0m                       Traceback (most recent call last)",
      "\u001b[0;32m<ipython-input-1-1b4d84b0e58a>\u001b[0m in \u001b[0;36m<module>\u001b[0;34m()\u001b[0m\n\u001b[1;32m      1\u001b[0m \u001b[0;32mimport\u001b[0m \u001b[0mpandas\u001b[0m \u001b[0;32mas\u001b[0m \u001b[0mpd\u001b[0m\u001b[0;34m\u001b[0m\u001b[0m\n\u001b[1;32m      2\u001b[0m \u001b[0;32mfrom\u001b[0m \u001b[0mdatetime\u001b[0m \u001b[0;32mimport\u001b[0m \u001b[0mdatetime\u001b[0m\u001b[0;34m\u001b[0m\u001b[0m\n\u001b[0;32m----> 3\u001b[0;31m \u001b[0;32mfrom\u001b[0m \u001b[0mutil\u001b[0m \u001b[0;32mimport\u001b[0m \u001b[0mget_data\u001b[0m\u001b[0;34m,\u001b[0m \u001b[0mplot_data\u001b[0m\u001b[0;34m\u001b[0m\u001b[0m\n\u001b[0m\u001b[1;32m      4\u001b[0m \u001b[0;34m\u001b[0m\u001b[0m\n\u001b[1;32m      5\u001b[0m \u001b[0;32mdef\u001b[0m \u001b[0msimple_ma\u001b[0m\u001b[0;34m(\u001b[0m\u001b[0mdf\u001b[0m\u001b[0;34m,\u001b[0m \u001b[0mwindow\u001b[0m\u001b[0;34m)\u001b[0m\u001b[0;34m:\u001b[0m\u001b[0;34m\u001b[0m\u001b[0m\n",
      "\u001b[0;31mModuleNotFoundError\u001b[0m: No module named 'util'"
     ]
    }
   ],
   "source": [
    "import pandas as pd\n",
    "from datetime import datetime\n",
    "from util import get_data, plot_data\n",
    "\n",
    "def simple_ma(df, window):\n",
    "    mean = pd.rolling_mean(df, window)\n",
    "    \n",
    "df = get_data(['JPM'], pd.date_range(datetime(2008,1,1),datetime(2009,12,31)))\n",
    "print(simple_ma(df,window=19).tail)\n"
   ]
  },
  {
   "cell_type": "code",
   "execution_count": null,
   "metadata": {
    "collapsed": true
   },
   "outputs": [],
   "source": []
  }
 ],
 "metadata": {
  "hide_input": true,
  "kernelspec": {
   "display_name": "Python 3",
   "language": "python",
   "name": "python3"
  },
  "language_info": {
   "codemirror_mode": {
    "name": "ipython",
    "version": 3
   },
   "file_extension": ".py",
   "mimetype": "text/x-python",
   "name": "python",
   "nbconvert_exporter": "python",
   "pygments_lexer": "ipython3",
   "version": "3.6.3"
  }
 },
 "nbformat": 4,
 "nbformat_minor": 2
}
